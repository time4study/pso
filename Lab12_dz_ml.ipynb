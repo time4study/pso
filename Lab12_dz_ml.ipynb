{
 "cells": [
  {
   "cell_type": "code",
   "execution_count": 1,
   "metadata": {},
   "outputs": [
    {
     "name": "stdout",
     "output_type": "stream",
     "text": [
      "Populating the interactive namespace from numpy and matplotlib\n"
     ]
    }
   ],
   "source": [
    "%pylab inline"
   ]
  },
  {
   "cell_type": "code",
   "execution_count": 2,
   "metadata": {},
   "outputs": [],
   "source": [
    "import sklearn.datasets\n",
    "import sklearn.linear_model\n",
    "import sklearn.model_selection\n",
    "import sklearn.metrics\n",
    "import sklearn.multiclass\n",
    "import sklearn.preprocessing"
   ]
  },
  {
   "cell_type": "markdown",
   "metadata": {},
   "source": [
    "# Maszynowe Uczenie\n",
    "\n",
    "Powyżej wczytano najistotniejsze moduły biblioteki *scikit-learn* używanej do maszynowego uczenia w Pythonie. Całe API można znaleźć tutaj:\n",
    "\n",
    "http://scikit-learn.org/stable/modules/classes.html\n",
    "\n",
    "Poza tym, warto też zaglądać do:\n",
    "\n",
    "http://scikit-learn.org/stable/user_guide.html\n",
    "\n",
    "Na początku, wczytaj i przejrzyj bazę cyfr wczytywaną metodą *sklearn.datasets.load_digits()*:"
   ]
  },
  {
   "cell_type": "code",
   "execution_count": 5,
   "metadata": {},
   "outputs": [
    {
     "name": "stdout",
     "output_type": "stream",
     "text": [
      "dict_keys(['images', 'data', 'DESCR', 'target_names', 'target'])\n",
      "Optical Recognition of Handwritten Digits Data Set\n",
      "===================================================\n",
      "\n",
      "Notes\n",
      "-----\n",
      "Data Set Characteristics:\n",
      "    :Number of Instances: 5620\n",
      "    :Number of Attributes: 64\n",
      "    :Attribute Information: 8x8 image of integer pixels in the range 0..16.\n",
      "    :Missing Attribute Values: None\n",
      "    :Creator: E. Alpaydin (alpaydin '@' boun.edu.tr)\n",
      "    :Date: July; 1998\n",
      "\n",
      "This is a copy of the test set of the UCI ML hand-written digits datasets\n",
      "http://archive.ics.uci.edu/ml/datasets/Optical+Recognition+of+Handwritten+Digits\n",
      "\n",
      "The data set contains images of hand-written digits: 10 classes where\n",
      "each class refers to a digit.\n",
      "\n",
      "Preprocessing programs made available by NIST were used to extract\n",
      "normalized bitmaps of handwritten digits from a preprinted form. From a\n",
      "total of 43 people, 30 contributed to the training set and different 13\n",
      "to the test set. 32x32 bitmaps are divided into nonoverlapping blocks of\n",
      "4x4 and the number of on pixels are counted in each block. This generates\n",
      "an input matrix of 8x8 where each element is an integer in the range\n",
      "0..16. This reduces dimensionality and gives invariance to small\n",
      "distortions.\n",
      "\n",
      "For info on NIST preprocessing routines, see M. D. Garris, J. L. Blue, G.\n",
      "T. Candela, D. L. Dimmick, J. Geist, P. J. Grother, S. A. Janet, and C.\n",
      "L. Wilson, NIST Form-Based Handprint Recognition System, NISTIR 5469,\n",
      "1994.\n",
      "\n",
      "References\n",
      "----------\n",
      "  - C. Kaynak (1995) Methods of Combining Multiple Classifiers and Their\n",
      "    Applications to Handwritten Digit Recognition, MSc Thesis, Institute of\n",
      "    Graduate Studies in Science and Engineering, Bogazici University.\n",
      "  - E. Alpaydin, C. Kaynak (1998) Cascading Classifiers, Kybernetika.\n",
      "  - Ken Tang and Ponnuthurai N. Suganthan and Xi Yao and A. Kai Qin.\n",
      "    Linear dimensionalityreduction using relevance weighted LDA. School of\n",
      "    Electrical and Electronic Engineering Nanyang Technological University.\n",
      "    2005.\n",
      "  - Claudio Gentile. A New Approximate Maximal Margin Classification\n",
      "    Algorithm. NIPS. 2000.\n",
      "\n"
     ]
    }
   ],
   "source": [
    "dig=sklearn.datasets.load_digits()\n",
    "\n",
    "print(dig.keys())\n",
    "print(dig['DESCR'])"
   ]
  },
  {
   "cell_type": "markdown",
   "metadata": {},
   "source": [
    "Wczytaj bazę ponownie ustawiając argument *return_X_y* na *True*:"
   ]
  },
  {
   "cell_type": "code",
   "execution_count": 9,
   "metadata": {},
   "outputs": [
    {
     "name": "stdout",
     "output_type": "stream",
     "text": [
      "(1797, 64)\n",
      "(1797,)\n",
      "[  0.   0.   5.  13.   9.   1.   0.   0.   0.   0.  13.  15.  10.  15.   5.\n",
      "   0.   0.   3.  15.   2.   0.  11.   8.   0.   0.   4.  12.   0.   0.   8.\n",
      "   8.   0.   0.   5.   8.   0.   0.   9.   8.   0.   0.   4.  11.   0.   1.\n",
      "  12.   7.   0.   0.   2.  14.   5.  10.  12.   0.   0.   0.   0.   6.  13.\n",
      "  10.   0.   0.   0.]\n",
      "0\n"
     ]
    }
   ],
   "source": [
    "X,y = sklearn.datasets.load_digits(return_X_y=True)\n",
    "print(X.shape)\n",
    "print(y.shape)\n",
    "\n",
    "print(X[0])\n",
    "print(y[0])"
   ]
  },
  {
   "cell_type": "markdown",
   "metadata": {},
   "source": [
    "Narysuj kilka przykładowych obrazków z bazy:"
   ]
  },
  {
   "cell_type": "code",
   "execution_count": 14,
   "metadata": {},
   "outputs": [
    {
     "data": {
      "image/png": "[encoded data removed]",
      "text/plain": [
       "<matplotlib.figure.Figure at 0x7f323d1be2b0>"
      ]
     },
     "metadata": {},
     "output_type": "display_data"
    }
   ],
   "source": [
    "figure(figsize=(10,10))\n",
    "for i in range(25):\n",
    "    subplot(5,5,i+1)\n",
    "    ind = random.randint(0,X.shape[0])\n",
    "    imshow(X[ind].reshape(8,8),cmap=cm.gray)\n",
    "    _=axis('off')\n",
    "    _=title(y[ind])"
   ]
  },
  {
   "cell_type": "markdown",
   "metadata": {},
   "source": [
    "## Podział danych na testowe i treningowe\n",
    "\n",
    "Można to łatwo osiągnąć używając metody *sklearn.model_selection.train_test_split()*. Argument *test_size* pozwala na ustalenie procentu danych jakie mają tworzyć w dane testowe.\n",
    "\n",
    "Podziel losowo zbiór na dane treningowe (90%) i testowe (10%) i narysuj histogram klas w danych testowych:"
   ]
  },
  {
   "cell_type": "code",
   "execution_count": 18,
   "metadata": {},
   "outputs": [
    {
     "name": "stdout",
     "output_type": "stream",
     "text": [
      "(1617, 64)\n",
      "(180, 64)\n",
      "(1617,)\n",
      "(180,)\n"
     ]
    },
    {
     "data": {
      "image/png": "[encoded data removed]",
      "text/plain": [
       "<matplotlib.figure.Figure at 0x7f323a5e4ef0>"
      ]
     },
     "metadata": {},
     "output_type": "display_data"
    }
   ],
   "source": [
    "X_tr,X_tst,y_tr,y_tst = sklearn.model_selection.train_test_split(X,y,test_size=0.1)\n",
    "\n",
    "print(X_tr.shape)\n",
    "print(X_tst.shape)\n",
    "print(y_tr.shape)\n",
    "print(y_tst.shape)\n",
    "\n",
    "_=hist(y_tst)"
   ]
  },
  {
   "cell_type": "markdown",
   "metadata": {},
   "source": [
    "### Stratyfikacja\n",
    "\n",
    "Scikit-learn ma bardzo wygodne klasy umożliwiające na stratyfikację podziału danych, czyli zapewnienie że ilość klas będzie równomierna. Użyj klasy *sklearn.model_selection.StratifiedShuffleSplit* żeby podzielić dane tak jak wyżej. Klasa ta może wygenerować kilka podziałów, ale dla naszej potrzeby wystarczy ustawić *n_splits* na 1. To co zwraca metoda *split* tej klasy jest generatorem (specjalna rodzaj Pythonowego objektu nadająca się do użycia w pętlach), ale można użyć metdoty *next* żeby wyciągnąć pierwszy (i jedyny) element tego generatora.\n",
    "\n",
    "Wygeneruj stratyfikowany podział danych jak wyżej i wylicz histogram klas testowych:"
   ]
  },
  {
   "cell_type": "code",
   "execution_count": 34,
   "metadata": {},
   "outputs": [
    {
     "name": "stdout",
     "output_type": "stream",
     "text": [
      "(1617, 64)\n",
      "(180, 64)\n",
      "(1617,)\n",
      "(180,)\n"
     ]
    },
    {
     "data": {
      "image/png": "[encoded data removed]",
      "text/plain": [
       "<matplotlib.figure.Figure at 0x7f323c8d4b70>"
      ]
     },
     "metadata": {},
     "output_type": "display_data"
    }
   ],
   "source": [
    "sss = sklearn.model_selection.StratifiedShuffleSplit(test_size=0.1,n_splits=1)\n",
    "\n",
    "tr_ind,tst_ind = next( sss.split(X,y) )\n",
    "\n",
    "X_tr = X[tr_ind]\n",
    "y_tr = y[tr_ind]\n",
    "X_tst = X[tst_ind]\n",
    "y_tst = y[tst_ind]\n",
    "\n",
    "print(X_tr.shape)\n",
    "print(X_tst.shape)\n",
    "print(y_tr.shape)\n",
    "print(y_tst.shape)\n",
    "\n",
    "_=hist(y_tst)"
   ]
  },
  {
   "cell_type": "markdown",
   "metadata": {},
   "source": [
    "## Klasyfikacja\n",
    "\n",
    "Użyjemy tutaj bardzo prostego modelu liniowego o nazwie \"regresja logistyczna\". Klasa *sklearn.linear_model.LogisticRegression* ma wiele parametrów, ale możemy je na razie zostawić domyślne.\n",
    "\n",
    "Użyj metody *fit* podając do niej dane treningowe, a potem metodę *predict* podając dane testowe:"
   ]
  },
  {
   "cell_type": "code",
   "execution_count": 33,
   "metadata": {},
   "outputs": [
    {
     "name": "stdout",
     "output_type": "stream",
     "text": [
      "0.19.1\n"
     ]
    }
   ],
   "source": [
    "print(sklearn.__version__)"
   ]
  },
  {
   "cell_type": "code",
   "execution_count": 35,
   "metadata": {},
   "outputs": [
    {
     "name": "stdout",
     "output_type": "stream",
     "text": [
      "CPU times: user 260 ms, sys: 4 ms, total: 264 ms\n",
      "Wall time: 263 ms\n",
      "[0 5 8 2 7 6 3 0 6 3 9 1 9 4 4 1 6 5 1 9 0 0 6 7 0 7 8 8 9 7 4 4 2 7 9 7 3\n",
      " 3 5 6 9 7 5 2 1 9 7 9 4 8 1 1 2 3 9 1 7 9 4 6 4 8 1 0 0 1 3 5 6 5 2 4 2 2\n",
      " 1 3 3 2 6 2 2 7 8 1 1 2 5 4 5 6 8 8 0 7 5 3 3 2 6 4 5 2 4 5 8 0 0 8 0 8 7\n",
      " 1 4 1 6 4 1 4 0 8 6 8 5 3 6 0 2 7 2 6 0 8 3 7 5 5 9 0 5 0 6 6 4 1 9 3 7 5\n",
      " 6 8 8 7 9 0 3 7 2 1 9 3 1 5 6 2 9 8 3 2 5 9 3 7 1 4 0 3 9 8 4 9]\n",
      "[0 5 8 2 7 6 3 0 6 3 9 1 9 4 4 1 6 5 4 9 0 0 6 7 0 7 8 8 9 7 4 4 2 7 9 7 3\n",
      " 3 5 6 9 9 5 2 1 9 7 9 4 8 1 1 2 3 9 1 7 9 4 6 4 8 1 0 0 1 3 5 6 5 2 4 2 2\n",
      " 1 3 3 2 6 2 2 7 8 1 1 2 5 4 5 6 8 8 0 7 5 3 3 2 6 4 5 2 4 5 8 0 0 8 0 8 7\n",
      " 1 4 1 6 4 1 4 0 8 6 8 5 3 6 0 2 7 2 6 0 8 3 7 5 5 9 0 5 0 6 6 4 1 9 3 7 5\n",
      " 6 8 8 7 9 0 3 7 2 1 9 3 1 5 6 2 7 8 3 2 5 9 3 7 1 4 0 3 9 8 4 9]\n"
     ]
    }
   ],
   "source": [
    "model = sklearn.linear_model.LogisticRegression()\n",
    "%time model.fit( X_tr , y_tr )\n",
    "\n",
    "h_tst = model.predict(X_tst)\n",
    "\n",
    "print(h_tst)\n",
    "print(y_tst)"
   ]
  },
  {
   "cell_type": "markdown",
   "metadata": {},
   "source": [
    "### Ewaluacja\n",
    "\n",
    "Moduł *sklearn.metrics* zawiera mnóstwo metod ewaluacji danych, ale trzeba dobrze rozumieć co one oznaczają. Niektóre z nich można policzyć tylko dla niektórych metod klasyfikacji, wiec warto pocztać dokumentację i dobrze sprawdzić wyjątki jak coś pójdzie nie tak.\n",
    "\n",
    "Najprostszą (i z pewnością działającą dla największej liczby przypadków) miarą jest *sklearn.metrics.accuracy_score*. Policz ją dla uzyskanego wyżej wyniku.\n",
    "\n",
    "Możesz też policzć miary typu precision/recall/F1, ale one działają tylko dla problemów binarnych. Można ją jednak zastosować dla naszego problemu rozważająć każdą klasę osobno i uśredniając wynik. Do tego należy użyć parametru *average* i podać do niego wartości *micro*, *macro* lub *weighted*."
   ]
  },
  {
   "cell_type": "code",
   "execution_count": 36,
   "metadata": {},
   "outputs": [
    {
     "name": "stdout",
     "output_type": "stream",
     "text": [
      "Accuracy: 98.33%\n",
      "Precision: 98.33%\n",
      "Recall: 98.33%\n"
     ]
    }
   ],
   "source": [
    "acc = sklearn.metrics.accuracy_score(y_tst,h_tst)\n",
    "print('Accuracy: {:0.2%}'.format(acc))\n",
    "\n",
    "prec = sklearn.metrics.precision_score(y_tst,h_tst,average='micro')\n",
    "print('Precision: {:0.2%}'.format(prec))\n",
    "\n",
    "pec = sklearn.metrics.recall_score(y_tst,h_tst,average='micro')\n",
    "print('Recall: {:0.2%}'.format(pec))"
   ]
  },
  {
   "cell_type": "markdown",
   "metadata": {},
   "source": [
    "#### Macierz konfuzji\n",
    "\n",
    "Do analizy błędów warto czasami zajrzeć do macierzy pomyłek. Wyświetl i narysuj macierz używając metody *sklearn.metrics.confusion_matrix*:"
   ]
  },
  {
   "cell_type": "code",
   "execution_count": 37,
   "metadata": {},
   "outputs": [
    {
     "name": "stdout",
     "output_type": "stream",
     "text": [
      "[[18  0  0  0  0  0  0  0  0  0]\n",
      " [ 0 18  0  0  0  0  0  0  0  0]\n",
      " [ 0  0 18  0  0  0  0  0  0  0]\n",
      " [ 0  0  0 18  0  0  0  0  0  0]\n",
      " [ 0  1  0  0 17  0  0  0  0  0]\n",
      " [ 0  0  0  0  0 18  0  0  0  0]\n",
      " [ 0  0  0  0  0  0 18  0  0  0]\n",
      " [ 0  0  0  0  0  0  0 17  0  1]\n",
      " [ 0  0  0  0  0  0  0  0 18  0]\n",
      " [ 0  0  0  0  0  0  0  1  0 17]]\n"
     ]
    },
    {
     "data": {
      "image/png": "[encoded data removed]",
      "text/plain": [
       "<matplotlib.figure.Figure at 0x7f323d1691d0>"
      ]
     },
     "metadata": {},
     "output_type": "display_data"
    }
   ],
   "source": [
    "mat = sklearn.metrics.confusion_matrix(y_tst, h_tst)\n",
    "print(mat)\n",
    "imshow(mat)\n",
    "_=axis('off')"
   ]
  },
  {
   "cell_type": "markdown",
   "metadata": {},
   "source": [
    "## Cross validation\n",
    "\n",
    "Dla małych zbiorów danych, bardziej przecyzyjny wynik można uzyskać używając procedury walidacji krzyżowej. W scikit-learn mamy do tego metodę *sklearn.model_selection.KFold*, albo jeszcze lepiej *sklearn.model_selection.StratifiedKFold*.\n",
    "\n",
    "Stwórz obiekt tej klasy do wykonania walidacji 5-krzyżowej i w pętli for powtórz powyższy eksperyment zapisując miarę jakości dla każdego folda, a na końcu podaj jego średnią i odchylenie standardowe:"
   ]
  },
  {
   "cell_type": "code",
   "execution_count": 42,
   "metadata": {},
   "outputs": [
    {
     "name": "stdout",
     "output_type": "stream",
     "text": [
      "CPU times: user 248 ms, sys: 0 ns, total: 248 ms\n",
      "Wall time: 250 ms\n",
      "Accuracy: 96.43%\n",
      "CPU times: user 248 ms, sys: 0 ns, total: 248 ms\n",
      "Wall time: 248 ms\n",
      "Accuracy: 94.48%\n",
      "CPU times: user 232 ms, sys: 0 ns, total: 232 ms\n",
      "Wall time: 231 ms\n",
      "Accuracy: 96.10%\n",
      "CPU times: user 232 ms, sys: 0 ns, total: 232 ms\n",
      "Wall time: 231 ms\n",
      "Accuracy: 96.36%\n",
      "CPU times: user 236 ms, sys: 0 ns, total: 236 ms\n",
      "Wall time: 235 ms\n",
      "Accuracy: 96.34%\n",
      "________________________________________\n",
      "Accuracy 95.940112% +/- 0.740786% std\n"
     ]
    }
   ],
   "source": [
    "cv = sklearn.model_selection.StratifiedKFold(n_splits=5, shuffle=True)\n",
    "accs = []\n",
    "\n",
    "for tr_ind,tst_ind in cv.split(X,y) :\n",
    "    X_tr = X[tr_ind]\n",
    "    y_tr = y[tr_ind]\n",
    "    X_tst = X[tst_ind]\n",
    "    y_tst = y[tst_ind]\n",
    "    model = sklearn.linear_model.LogisticRegression()\n",
    "    %time model.fit( X_tr , y_tr )\n",
    "\n",
    "    h_tst = model.predict(X_tst)\n",
    "    \n",
    "    acc = sklearn.metrics.accuracy_score(y_tst,h_tst)\n",
    "    print('Accuracy: {:0.2%}'.format(acc))\n",
    "    \n",
    "    accs.append(acc)\n",
    "\n",
    "accs = array(accs)\n",
    "print('________________________________________')\n",
    "print('Accuracy {:%} +/- {:%} std'.format(accs.mean(),accs.std()))"
   ]
  },
  {
   "cell_type": "markdown",
   "metadata": {},
   "source": [
    "## Krzywa ROC\n",
    "\n",
    "Krzywę tą też można wyliczyć tylko dla problemów binarnych. Dlatego musimy użyc podobnej metody \"uśredniania\" wyników jak w przypadku precision/recall. Dodatkowo, metoda ta jest o wiele bardziej precyzyjna jeśli wynikiem jest dokładna miara prawdopodbieństwa, zamiast binarnej klasy. Umożliwia nam ona ustalenie wartości progowej zależnej od wartości prawdopodobieństwa.\n",
    "\n",
    "Wytrenuj ponownie model do regresji logistycznej (jak wyżej), ale tym razem użyj funkcji *decision_funcion* zamiast *predict* żeby otrzymać bardziej szczegółowy wynik klasyfikacji:"
   ]
  },
  {
   "cell_type": "code",
   "execution_count": 44,
   "metadata": {},
   "outputs": [
    {
     "name": "stdout",
     "output_type": "stream",
     "text": [
      "(355, 10)\n",
      "[[-16.17165408  -7.03575116 -15.39112402 ..., -42.5796768   -2.78579539\n",
      "  -56.98346733]\n",
      " [ -6.22165897  -8.63470587 -24.99655501 ..., -22.52429933  -2.03174299\n",
      "    9.40666085]\n",
      " [-37.07368818   5.0872781  -27.18642872 ..., -34.00789563  -6.54404314\n",
      "  -33.27311171]\n",
      " ..., \n",
      " [-36.61881396 -12.54452477  13.06231368 ..., -36.59125729  -8.91792556\n",
      "  -44.88983724]\n",
      " [-18.00561705 -12.71674079 -38.08470947 ..., -28.04516484  -6.42407623\n",
      "   -8.71129182]\n",
      " [-28.43043558 -19.25838468 -21.43846889 ...,  12.02959736 -20.49050607\n",
      "  -49.0466291 ]]\n"
     ]
    }
   ],
   "source": [
    "model = sklearn.linear_model.LogisticRegression()\n",
    "model.fit( X_tr , y_tr )\n",
    "h_tst = model.decision_function(X_tst)\n",
    "\n",
    "print(h_tst.shape)\n",
    "print(h_tst)\n",
    "# sklearn.metrics.roc_curve(y_tst, h_tst)\n"
   ]
  },
  {
   "cell_type": "markdown",
   "metadata": {},
   "source": [
    "Jeśli chcemy porównać ten wynik z etykietami refencji, musimy je najpierw zmienić do postaci binarnej. Można do tego użyć metody *sklearn.preprocessing.label_binarize*:"
   ]
  },
  {
   "cell_type": "code",
   "execution_count": 48,
   "metadata": {},
   "outputs": [
    {
     "name": "stdout",
     "output_type": "stream",
     "text": [
      "(355,)\n",
      "[6 9 1 3 0 5 5 4 1 2 6 3 1 8 2 3 7 3 9 3 0 7 8 8 0 3 8 0 7 9 5 5 4 2 2 3 3\n",
      " 4 6 4 5 0 7 6 4 0 3 6 2 2 4 8 7 9 7 9 0 8 9 1 1 0 6 9 6 9 2 2 7 5 9 0 3 7\n",
      " 3 4 9 0 3 6 6 9 1 3 7 6 9 4 5 4 7 7 1 2 3 6 2 4 8 5 9 1 6 6 0 5 8 2 1 7 6\n",
      " 2 6 7 2 5 8 9 4 0 9 5 0 4 7 1 0 2 3 3 5 1 6 2 1 6 1 8 1 3 4 4 7 9 8 4 5 0\n",
      " 1 4 1 3 6 7 5 9 7 5 2 6 9 5 2 7 2 3 1 4 9 5 4 0 8 0 4 7 2 8 6 8 4 5 1 2 1\n",
      " 6 3 6 2 3 1 5 5 9 4 8 8 5 8 1 9 0 1 3 8 0 5 0 9 7 3 6 5 3 6 2 8 7 4 2 6 8\n",
      " 1 4 7 4 9 5 8 9 1 5 0 0 2 8 2 4 1 0 8 2 7 4 1 0 3 9 5 8 5 7 0 8 4 5 8 8 9\n",
      " 0 9 6 5 2 3 3 6 6 2 6 1 7 8 1 8 4 0 6 8 9 6 4 7 5 2 3 4 5 0 9 1 9 1 2 7 9\n",
      " 8 0 5 9 0 3 5 0 9 1 7 0 0 2 7 1 7 6 0 1 6 7 4 3 7 6 8 3 1 7 9 4 4 9 8 3 5\n",
      " 7 1 2 3 8 0 5 2 3 4 6 9 6 3 4 4 3 1 2 2 5 7]\n",
      "(355, 10)\n",
      "[[0 0 0 ..., 0 0 0]\n",
      " [0 0 0 ..., 0 0 1]\n",
      " [0 1 0 ..., 0 0 0]\n",
      " ..., \n",
      " [0 0 1 ..., 0 0 0]\n",
      " [0 0 0 ..., 0 0 0]\n",
      " [0 0 0 ..., 1 0 0]]\n"
     ]
    }
   ],
   "source": [
    "print(y_tst.shape)\n",
    "print(y_tst)\n",
    "\n",
    "y_tst_bin = sklearn.preprocessing.label_binarize(y_tst,classes=dig['target_names'])\n",
    "print(y_tst_bin.shape)\n",
    "print(y_tst_bin)"
   ]
  },
  {
   "cell_type": "markdown",
   "metadata": {},
   "source": [
    "W tej chwili można wyliczyć krzywę ROC dla dowolnej klasy używając metodę *sklearn.metrics.roc_curve* i podając do niej wyniki dla wybranej klasy. Metoda ta zwraca trzy wartości, z których nas interesują tylko pierwsze dwie. Wartości te można podać zarówno do metody *plot*, jak i do metody *sklearn.metrics.auc* żeby wyliczyć miarę AUC danej krzywej. Narsyuj też na wykresie krzywą od (0,0) do (1,1) reprezentującą odcięcie klasyfikacji losowej:"
   ]
  },
  {
   "cell_type": "code",
   "execution_count": 60,
   "metadata": {},
   "outputs": [
    {
     "data": {
      "text/plain": [
       "Text(0,0.5,'True positive rate')"
      ]
     },
     "execution_count": 60,
     "metadata": {},
     "output_type": "execute_result"
    },
    {
     "data": {
      "image/png": "[encoded data removed]",
      "text/plain": [
       "<matplotlib.figure.Figure at 0x7f323a658be0>"
      ]
     },
     "metadata": {},
     "output_type": "display_data"
    }
   ],
   "source": [
    "c = 9 #classa\n",
    "fpr, tpr, _ = sklearn.metrics.roc_curve(y_tst_bin[:,c], h_tst[:,c])\n",
    "auc = sklearn.metrics.auc(fpr, tpr)\n",
    "\n",
    "plot(fpr , tpr)\n",
    "plot([0,1] , [0,1], 'k--')\n",
    "xlim(0,1)\n",
    "ylim(0,1.05)\n",
    "title('Krzywa ROC (AUC: {:%})'.format(auc))\n",
    "xlabel('False positive rate')\n",
    "ylabel('True positive rate')"
   ]
  },
  {
   "cell_type": "markdown",
   "metadata": {},
   "source": [
    "Można też narysować uśredniony wykres dla wszystkich klas (tzw. metodą \"micro\") używając funkcji *ravel()* dla macierzy wyniku i referencji.\n",
    "\n",
    "Więcej informacji znajdziesz na stronie: http://scikit-learn.org/stable/auto_examples/model_selection/plot_roc.html"
   ]
  },
  {
   "cell_type": "code",
   "execution_count": 61,
   "metadata": {},
   "outputs": [
    {
     "data": {
      "text/plain": [
       "Text(0,0.5,'True positive rate')"
      ]
     },
     "execution_count": 61,
     "metadata": {},
     "output_type": "execute_result"
    },
    {
     "data": {
      "image/png": "[encoded data removed]",
      "text/plain": [
       "<matplotlib.figure.Figure at 0x7f323cc39898>"
      ]
     },
     "metadata": {},
     "output_type": "display_data"
    }
   ],
   "source": [
    "c = 9 #classa\n",
    "# fpr, tpr, _ = sklearn.metrics.roc_curve(y_tst_bin[:,c], h_tst[:,c])\n",
    "fpr, tpr, _ = sklearn.metrics.roc_curve(y_tst_bin.ravel(), h_tst.ravel())\n",
    "auc = sklearn.metrics.auc(fpr, tpr)\n",
    "\n",
    "plot(fpr , tpr)\n",
    "plot([0,1] , [0,1], 'k--')\n",
    "xlim(0,1)\n",
    "ylim(0,1.05)\n",
    "title('Krzywa ROC (AUC: {:%})'.format(auc))\n",
    "xlabel('False positive rate')\n",
    "ylabel('True positive rate')"
   ]
  },
  {
   "cell_type": "markdown",
   "metadata": {},
   "source": [
    "# Praca domowa\n",
    "\n",
    "Wybierz kilka (minimum 3!) różnych klasyfikatorów do problemów typu *multi-class* z tej strony: http://scikit-learn.org/stable/modules/multiclass.html - najlepiej spróbować zarówno *One-vs-all* jak i *One-vs-one* żeby zobaczyć który jest lepszy.\n",
    "\n",
    "Wylicz i porównaj ich zarówno pod względem *accuracy* wyliczonego z walidacji krzyżowej jak i krzywych ROC. Wyniki podaj zarówno w postaci listy średnych i odchylenia *accuracy* oraz AUC, jak i w postaci wykresów: liniowych dla krzywych ROC (wszystkie klasyfikatory na jednym wykresie!) oraz *boxplot* dla miar *accuracy* (też wszystkie na jednym).\n",
    "\n",
    "## Alternatywna praca domowa\n",
    "\n",
    "Wylicz wynik klasyfikacji na innym zbiorze obrazów. Może to być oryginalny MNIST, CIFAR-10 lub coś innego podobnie złożonego."
   ]
  },
  {
   "cell_type": "code",
   "execution_count": 62,
   "metadata": {},
   "outputs": [],
   "source": [
    "from sklearn.svm import SVC"
   ]
  },
  {
   "cell_type": "code",
   "execution_count": 64,
   "metadata": {},
   "outputs": [
    {
     "name": "stdout",
     "output_type": "stream",
     "text": [
      "CPU times: user 548 ms, sys: 0 ns, total: 548 ms\n",
      "Wall time: 509 ms\n"
     ]
    },
    {
     "data": {
      "text/plain": [
       "SVC(C=1.0, cache_size=200, class_weight=None, coef0=0.0,\n",
       "  decision_function_shape='ovr', degree=3, gamma='auto', kernel='rbf',\n",
       "  max_iter=-1, probability=False, random_state=None, shrinking=True,\n",
       "  tol=0.001, verbose=False)"
      ]
     },
     "execution_count": 64,
     "metadata": {},
     "output_type": "execute_result"
    }
   ],
   "source": [
    "clf = SVC()\n",
    "%time clf.fit( X_tr , y_tr )\n"
   ]
  },
  {
   "cell_type": "code",
   "execution_count": 65,
   "metadata": {},
   "outputs": [
    {
     "name": "stdout",
     "output_type": "stream",
     "text": [
      "[6 5 1 3 5 5 5 4 5 5 6 3 1 5 5 3 5 3 5 3 5 7 5 5 0 5 8 5 7 9 5 5 5 2 5 3 3\n",
      " 5 6 4 5 0 5 6 4 0 5 6 5 5 4 5 7 5 5 9 5 5 5 1 5 0 6 9 6 5 2 2 5 5 9 0 5 7\n",
      " 5 4 9 0 3 6 5 9 5 3 5 5 9 4 5 5 7 5 1 5 3 6 5 5 5 5 5 5 5 5 5 5 5 5 5 7 5\n",
      " 5 6 7 5 5 8 5 4 0 9 5 0 5 5 5 5 5 3 3 5 5 6 5 5 5 5 5 5 3 5 5 5 9 8 5 5 5\n",
      " 5 4 1 3 6 7 5 9 5 5 2 5 5 5 2 7 5 3 1 5 9 5 5 5 5 0 4 5 2 5 6 8 5 5 1 2 1\n",
      " 6 3 6 2 3 1 5 5 5 5 8 8 5 5 5 5 5 1 3 5 0 5 0 5 5 3 6 5 5 5 2 5 5 4 2 6 5\n",
      " 1 4 7 5 9 5 5 9 1 5 5 5 5 5 2 4 1 5 5 5 7 4 1 5 3 9 5 5 5 5 5 5 4 5 8 5 9\n",
      " 0 5 6 5 5 3 3 6 6 5 5 5 5 5 1 5 4 5 6 5 9 6 4 5 5 2 3 4 5 5 9 1 9 1 2 7 5\n",
      " 5 0 5 5 0 3 5 0 5 1 5 5 5 2 5 5 5 5 0 1 6 5 5 3 5 5 5 3 1 7 5 5 4 5 5 5 5\n",
      " 5 5 5 3 5 0 5 5 5 5 5 9 6 5 5 4 3 1 2 2 5 5]\n",
      "[6 9 1 3 0 5 5 4 1 2 6 3 1 8 2 3 7 3 9 3 0 7 8 8 0 3 8 0 7 9 5 5 4 2 2 3 3\n",
      " 4 6 4 5 0 7 6 4 0 3 6 2 2 4 8 7 9 7 9 0 8 9 1 1 0 6 9 6 9 2 2 7 5 9 0 3 7\n",
      " 3 4 9 0 3 6 6 9 1 3 7 6 9 4 5 4 7 7 1 2 3 6 2 4 8 5 9 1 6 6 0 5 8 2 1 7 6\n",
      " 2 6 7 2 5 8 9 4 0 9 5 0 4 7 1 0 2 3 3 5 1 6 2 1 6 1 8 1 3 4 4 7 9 8 4 5 0\n",
      " 1 4 1 3 6 7 5 9 7 5 2 6 9 5 2 7 2 3 1 4 9 5 4 0 8 0 4 7 2 8 6 8 4 5 1 2 1\n",
      " 6 3 6 2 3 1 5 5 9 4 8 8 5 8 1 9 0 1 3 8 0 5 0 9 7 3 6 5 3 6 2 8 7 4 2 6 8\n",
      " 1 4 7 4 9 5 8 9 1 5 0 0 2 8 2 4 1 0 8 2 7 4 1 0 3 9 5 8 5 7 0 8 4 5 8 8 9\n",
      " 0 9 6 5 2 3 3 6 6 2 6 1 7 8 1 8 4 0 6 8 9 6 4 7 5 2 3 4 5 0 9 1 9 1 2 7 9\n",
      " 8 0 5 9 0 3 5 0 9 1 7 0 0 2 7 1 7 6 0 1 6 7 4 3 7 6 8 3 1 7 9 4 4 9 8 3 5\n",
      " 7 1 2 3 8 0 5 2 3 4 6 9 6 3 4 4 3 1 2 2 5 7]\n",
      "Accuracy: 56.34%\n"
     ]
    }
   ],
   "source": [
    "\n",
    "h_tst = clf.predict(X_tst)\n",
    "\n",
    "print(h_tst)\n",
    "print(y_tst)\n",
    "acc = sklearn.metrics.accuracy_score(y_tst,h_tst)\n",
    "print('Accuracy: {:0.2%}'.format(acc))"
   ]
  },
  {
   "cell_type": "code",
   "execution_count": 69,
   "metadata": {},
   "outputs": [],
   "source": [
    "from sklearn import linear_model"
   ]
  },
  {
   "cell_type": "code",
   "execution_count": 72,
   "metadata": {},
   "outputs": [
    {
     "name": "stdout",
     "output_type": "stream",
     "text": [
      "CPU times: user 16 ms, sys: 0 ns, total: 16 ms\n",
      "Wall time: 14.9 ms\n"
     ]
    },
    {
     "name": "stderr",
     "output_type": "stream",
     "text": [
      "/usr/local/lib/python3.4/dist-packages/sklearn/linear_model/stochastic_gradient.py:128: FutureWarning: max_iter and tol parameters have been added in <class 'sklearn.linear_model.stochastic_gradient.SGDClassifier'> in 0.19. If both are left unset, they default to max_iter=5 and tol=None. If tol is not None, max_iter defaults to max_iter=1000. From 0.21, default max_iter will be 1000, and default tol will be 1e-3.\n",
      "  \"and default tol will be 1e-3.\" % type(self), FutureWarning)\n"
     ]
    },
    {
     "data": {
      "text/plain": [
       "SGDClassifier(alpha=0.0001, average=False, class_weight=None, epsilon=0.1,\n",
       "       eta0=0.0, fit_intercept=True, l1_ratio=0.15,\n",
       "       learning_rate='optimal', loss='hinge', max_iter=None, n_iter=None,\n",
       "       n_jobs=1, penalty='l2', power_t=0.5, random_state=None,\n",
       "       shuffle=True, tol=None, verbose=0, warm_start=False)"
      ]
     },
     "execution_count": 72,
     "metadata": {},
     "output_type": "execute_result"
    }
   ],
   "source": [
    "clf = linear_model.SGDClassifier()\n",
    "%time clf.fit( X_tr , y_tr )"
   ]
  },
  {
   "cell_type": "code",
   "execution_count": 73,
   "metadata": {},
   "outputs": [
    {
     "name": "stdout",
     "output_type": "stream",
     "text": [
      "[6 9 1 3 0 5 5 4 1 2 6 3 1 8 1 3 7 3 9 3 1 7 8 1 0 3 8 0 7 9 5 5 4 2 1 3 3\n",
      " 1 6 8 5 0 7 6 1 0 3 6 2 2 1 8 7 9 7 9 0 8 9 1 1 0 6 9 6 9 2 2 7 5 9 0 3 7\n",
      " 2 4 9 0 3 6 6 9 1 3 7 6 9 1 5 1 9 7 1 1 9 6 2 4 8 5 9 1 6 6 0 5 8 2 1 7 6\n",
      " 2 6 7 2 5 1 9 4 0 9 5 0 1 7 1 0 2 3 3 5 1 6 2 1 6 1 8 1 3 4 9 7 9 8 4 5 0\n",
      " 1 4 1 3 6 7 5 9 7 5 2 6 9 5 2 7 2 3 1 4 9 5 4 0 1 0 4 7 2 8 6 8 4 9 1 2 1\n",
      " 6 3 6 2 3 1 5 5 9 4 8 8 5 8 1 9 0 1 3 8 0 5 0 9 7 3 6 5 3 6 2 8 7 4 2 6 8\n",
      " 1 4 7 4 9 5 8 9 1 5 0 0 2 8 2 4 1 5 8 2 7 4 1 1 3 9 5 8 2 7 5 1 4 5 8 8 9\n",
      " 0 9 6 5 2 3 9 6 6 2 6 1 7 8 1 8 4 0 6 8 9 6 4 7 5 2 3 4 5 0 9 1 9 1 2 7 9\n",
      " 8 0 5 9 0 3 5 0 8 1 7 1 0 2 1 1 7 6 0 1 6 7 1 3 7 6 8 3 1 7 1 9 4 1 8 8 5\n",
      " 7 1 2 1 8 0 5 2 8 4 6 9 6 3 4 4 3 1 2 2 5 7]\n",
      "[6 9 1 3 0 5 5 4 1 2 6 3 1 8 2 3 7 3 9 3 0 7 8 8 0 3 8 0 7 9 5 5 4 2 2 3 3\n",
      " 4 6 4 5 0 7 6 4 0 3 6 2 2 4 8 7 9 7 9 0 8 9 1 1 0 6 9 6 9 2 2 7 5 9 0 3 7\n",
      " 3 4 9 0 3 6 6 9 1 3 7 6 9 4 5 4 7 7 1 2 3 6 2 4 8 5 9 1 6 6 0 5 8 2 1 7 6\n",
      " 2 6 7 2 5 8 9 4 0 9 5 0 4 7 1 0 2 3 3 5 1 6 2 1 6 1 8 1 3 4 4 7 9 8 4 5 0\n",
      " 1 4 1 3 6 7 5 9 7 5 2 6 9 5 2 7 2 3 1 4 9 5 4 0 8 0 4 7 2 8 6 8 4 5 1 2 1\n",
      " 6 3 6 2 3 1 5 5 9 4 8 8 5 8 1 9 0 1 3 8 0 5 0 9 7 3 6 5 3 6 2 8 7 4 2 6 8\n",
      " 1 4 7 4 9 5 8 9 1 5 0 0 2 8 2 4 1 0 8 2 7 4 1 0 3 9 5 8 5 7 0 8 4 5 8 8 9\n",
      " 0 9 6 5 2 3 3 6 6 2 6 1 7 8 1 8 4 0 6 8 9 6 4 7 5 2 3 4 5 0 9 1 9 1 2 7 9\n",
      " 8 0 5 9 0 3 5 0 9 1 7 0 0 2 7 1 7 6 0 1 6 7 4 3 7 6 8 3 1 7 9 4 4 9 8 3 5\n",
      " 7 1 2 3 8 0 5 2 3 4 6 9 6 3 4 4 3 1 2 2 5 7]\n",
      "Accuracy: 90.14%\n"
     ]
    }
   ],
   "source": [
    "h_tst = clf.predict(X_tst)\n",
    "\n",
    "print(h_tst)\n",
    "print(y_tst)\n",
    "acc = sklearn.metrics.accuracy_score(y_tst,h_tst)\n",
    "print('Accuracy: {:0.2%}'.format(acc))"
   ]
  },
  {
   "cell_type": "code",
   "execution_count": 74,
   "metadata": {},
   "outputs": [],
   "source": [
    "from sklearn.neighbors import KNeighborsClassifier"
   ]
  },
  {
   "cell_type": "code",
   "execution_count": 76,
   "metadata": {},
   "outputs": [
    {
     "name": "stdout",
     "output_type": "stream",
     "text": [
      "CPU times: user 8 ms, sys: 0 ns, total: 8 ms\n",
      "Wall time: 21.6 ms\n"
     ]
    },
    {
     "data": {
      "text/plain": [
       "KNeighborsClassifier(algorithm='auto', leaf_size=30, metric='minkowski',\n",
       "           metric_params=None, n_jobs=1, n_neighbors=5, p=2,\n",
       "           weights='uniform')"
      ]
     },
     "execution_count": 76,
     "metadata": {},
     "output_type": "execute_result"
    }
   ],
   "source": [
    "clf = KNeighborsClassifier()\n",
    "%time clf.fit( X_tr , y_tr )"
   ]
  },
  {
   "cell_type": "code",
   "execution_count": 77,
   "metadata": {},
   "outputs": [
    {
     "name": "stdout",
     "output_type": "stream",
     "text": [
      "[6 9 1 3 0 5 5 4 1 2 6 3 1 8 2 3 7 3 9 3 0 7 8 8 0 3 8 0 7 9 5 5 4 2 2 3 3\n",
      " 4 6 4 5 0 7 6 4 0 3 6 2 2 4 8 7 9 7 9 0 8 9 1 1 0 6 9 6 9 2 2 7 5 9 0 3 7\n",
      " 3 4 9 0 3 6 6 9 1 3 7 6 9 4 5 4 7 7 1 2 3 6 2 4 8 5 9 1 6 6 0 5 8 2 1 7 6\n",
      " 2 6 7 2 5 8 9 4 0 9 5 0 4 7 1 0 2 3 3 5 1 6 2 1 6 1 8 1 3 4 4 7 9 8 4 5 0\n",
      " 1 4 1 3 6 7 5 9 7 5 2 6 9 5 2 7 2 3 1 4 9 5 4 0 8 0 4 7 2 8 6 8 4 5 1 2 1\n",
      " 6 3 6 2 3 1 5 5 9 4 8 8 5 8 1 9 0 1 3 8 0 5 0 9 7 3 6 5 3 6 2 8 7 4 2 6 8\n",
      " 1 4 7 4 9 5 8 9 1 5 0 0 2 8 2 4 1 0 8 2 7 4 1 0 3 9 5 8 5 7 0 8 4 5 8 8 9\n",
      " 0 9 6 5 2 3 3 6 6 2 6 1 7 8 1 8 4 0 6 8 9 6 4 7 5 2 3 4 5 0 9 1 9 1 2 7 9\n",
      " 8 0 5 9 0 3 5 0 9 1 7 0 0 2 7 1 7 6 0 1 6 7 4 3 7 6 8 3 1 7 3 7 4 5 8 3 5\n",
      " 7 1 2 3 8 0 5 2 3 4 6 9 6 3 4 4 3 1 2 2 5 7]\n",
      "[6 9 1 3 0 5 5 4 1 2 6 3 1 8 2 3 7 3 9 3 0 7 8 8 0 3 8 0 7 9 5 5 4 2 2 3 3\n",
      " 4 6 4 5 0 7 6 4 0 3 6 2 2 4 8 7 9 7 9 0 8 9 1 1 0 6 9 6 9 2 2 7 5 9 0 3 7\n",
      " 3 4 9 0 3 6 6 9 1 3 7 6 9 4 5 4 7 7 1 2 3 6 2 4 8 5 9 1 6 6 0 5 8 2 1 7 6\n",
      " 2 6 7 2 5 8 9 4 0 9 5 0 4 7 1 0 2 3 3 5 1 6 2 1 6 1 8 1 3 4 4 7 9 8 4 5 0\n",
      " 1 4 1 3 6 7 5 9 7 5 2 6 9 5 2 7 2 3 1 4 9 5 4 0 8 0 4 7 2 8 6 8 4 5 1 2 1\n",
      " 6 3 6 2 3 1 5 5 9 4 8 8 5 8 1 9 0 1 3 8 0 5 0 9 7 3 6 5 3 6 2 8 7 4 2 6 8\n",
      " 1 4 7 4 9 5 8 9 1 5 0 0 2 8 2 4 1 0 8 2 7 4 1 0 3 9 5 8 5 7 0 8 4 5 8 8 9\n",
      " 0 9 6 5 2 3 3 6 6 2 6 1 7 8 1 8 4 0 6 8 9 6 4 7 5 2 3 4 5 0 9 1 9 1 2 7 9\n",
      " 8 0 5 9 0 3 5 0 9 1 7 0 0 2 7 1 7 6 0 1 6 7 4 3 7 6 8 3 1 7 9 4 4 9 8 3 5\n",
      " 7 1 2 3 8 0 5 2 3 4 6 9 6 3 4 4 3 1 2 2 5 7]\n",
      "Accuracy: 99.15%\n"
     ]
    }
   ],
   "source": [
    "h_tst = clf.predict(X_tst)\n",
    "\n",
    "print(h_tst)\n",
    "print(y_tst)\n",
    "acc = sklearn.metrics.accuracy_score(y_tst,h_tst)\n",
    "print('Accuracy: {:0.2%}'.format(acc))"
   ]
  },
  {
   "cell_type": "code",
   "execution_count": null,
   "metadata": {},
   "outputs": [],
   "source": []
  }
 ],
 "metadata": {
  "kernelspec": {
   "display_name": "Python 3",
   "language": "python",
   "name": "python3"
  },
  "language_info": {
   "codemirror_mode": {
    "name": "ipython",
    "version": 3
   },
   "file_extension": ".py",
   "mimetype": "text/x-python",
   "name": "python",
   "nbconvert_exporter": "python",
   "pygments_lexer": "ipython3",
   "version": "3.4.2"
  }
 },
 "nbformat": 4,
 "nbformat_minor": 2
}
